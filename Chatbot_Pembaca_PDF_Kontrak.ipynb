{
  "nbformat": 4,
  "nbformat_minor": 0,
  "metadata": {
    "colab": {
      "provenance": [],
      "gpuType": "T4",
      "authorship_tag": "ABX9TyPQTeRicO1+/3sVF2uMgWmf",
      "include_colab_link": true
    },
    "kernelspec": {
      "name": "python3",
      "display_name": "Python 3"
    },
    "language_info": {
      "name": "python"
    },
    "accelerator": "GPU"
  },
  "cells": [
    {
      "cell_type": "markdown",
      "metadata": {
        "id": "view-in-github",
        "colab_type": "text"
      },
      "source": [
        "<a href=\"https://colab.research.google.com/github/aloyindependent404/npc_game/blob/main/Chatbot_Pembaca_PDF_Kontrak.ipynb\" target=\"_parent\"><img src=\"https://colab.research.google.com/assets/colab-badge.svg\" alt=\"Open In Colab\"/></a>"
      ]
    },
    {
      "cell_type": "code",
      "execution_count": 1,
      "metadata": {
        "colab": {
          "base_uri": "https://localhost:8080/"
        },
        "collapsed": true,
        "id": "3cup_msDcXiG",
        "outputId": "7960a775-de2f-4ae1-d7be-5e48bd4f55ad"
      },
      "outputs": [
        {
          "output_type": "stream",
          "name": "stdout",
          "text": [
            "\u001b[2K   \u001b[90m━━━━━━━━━━━━━━━━━━━━━━━━━━━━━━━━━━━━━━━━\u001b[0m \u001b[32m69.0/69.0 kB\u001b[0m \u001b[31m2.2 MB/s\u001b[0m eta \u001b[36m0:00:00\u001b[0m\n",
            "\u001b[2K   \u001b[90m━━━━━━━━━━━━━━━━━━━━━━━━━━━━━━━━━━━━━━━━\u001b[0m \u001b[32m2.5/2.5 MB\u001b[0m \u001b[31m25.4 MB/s\u001b[0m eta \u001b[36m0:00:00\u001b[0m\n",
            "\u001b[2K   \u001b[90m━━━━━━━━━━━━━━━━━━━━━━━━━━━━━━━━━━━━━━━━\u001b[0m \u001b[32m1.0/1.0 MB\u001b[0m \u001b[31m37.8 MB/s\u001b[0m eta \u001b[36m0:00:00\u001b[0m\n",
            "\u001b[2K   \u001b[90m━━━━━━━━━━━━━━━━━━━━━━━━━━━━━━━━━━━━━━━━\u001b[0m \u001b[32m438.9/438.9 kB\u001b[0m \u001b[31m14.7 MB/s\u001b[0m eta \u001b[36m0:00:00\u001b[0m\n",
            "\u001b[2K   \u001b[90m━━━━━━━━━━━━━━━━━━━━━━━━━━━━━━━━━━━━━━━━\u001b[0m \u001b[32m31.3/31.3 MB\u001b[0m \u001b[31m14.4 MB/s\u001b[0m eta \u001b[36m0:00:00\u001b[0m\n",
            "\u001b[2K   \u001b[90m━━━━━━━━━━━━━━━━━━━━━━━━━━━━━━━━━━━━━━━━\u001b[0m \u001b[32m304.6/304.6 kB\u001b[0m \u001b[31m13.9 MB/s\u001b[0m eta \u001b[36m0:00:00\u001b[0m\n",
            "\u001b[2K   \u001b[90m━━━━━━━━━━━━━━━━━━━━━━━━━━━━━━━━━━━━━━━━\u001b[0m \u001b[32m45.2/45.2 kB\u001b[0m \u001b[31m3.0 MB/s\u001b[0m eta \u001b[36m0:00:00\u001b[0m\n",
            "\u001b[2K   \u001b[90m━━━━━━━━━━━━━━━━━━━━━━━━━━━━━━━━━━━━━━━━\u001b[0m \u001b[32m363.4/363.4 MB\u001b[0m \u001b[31m4.8 MB/s\u001b[0m eta \u001b[36m0:00:00\u001b[0m\n",
            "\u001b[2K   \u001b[90m━━━━━━━━━━━━━━━━━━━━━━━━━━━━━━━━━━━━━━━━\u001b[0m \u001b[32m13.8/13.8 MB\u001b[0m \u001b[31m56.2 MB/s\u001b[0m eta \u001b[36m0:00:00\u001b[0m\n",
            "\u001b[2K   \u001b[90m━━━━━━━━━━━━━━━━━━━━━━━━━━━━━━━━━━━━━━━━\u001b[0m \u001b[32m24.6/24.6 MB\u001b[0m \u001b[31m53.1 MB/s\u001b[0m eta \u001b[36m0:00:00\u001b[0m\n",
            "\u001b[2K   \u001b[90m━━━━━━━━━━━━━━━━━━━━━━━━━━━━━━━━━━━━━━━━\u001b[0m \u001b[32m883.7/883.7 kB\u001b[0m \u001b[31m39.5 MB/s\u001b[0m eta \u001b[36m0:00:00\u001b[0m\n",
            "\u001b[2K   \u001b[90m━━━━━━━━━━━━━━━━━━━━━━━━━━━━━━━━━━━━━━━━\u001b[0m \u001b[32m664.8/664.8 MB\u001b[0m \u001b[31m2.1 MB/s\u001b[0m eta \u001b[36m0:00:00\u001b[0m\n",
            "\u001b[2K   \u001b[90m━━━━━━━━━━━━━━━━━━━━━━━━━━━━━━━━━━━━━━━━\u001b[0m \u001b[32m211.5/211.5 MB\u001b[0m \u001b[31m6.0 MB/s\u001b[0m eta \u001b[36m0:00:00\u001b[0m\n",
            "\u001b[2K   \u001b[90m━━━━━━━━━━━━━━━━━━━━━━━━━━━━━━━━━━━━━━━━\u001b[0m \u001b[32m56.3/56.3 MB\u001b[0m \u001b[31m9.5 MB/s\u001b[0m eta \u001b[36m0:00:00\u001b[0m\n",
            "\u001b[2K   \u001b[90m━━━━━━━━━━━━━━━━━━━━━━━━━━━━━━━━━━━━━━━━\u001b[0m \u001b[32m127.9/127.9 MB\u001b[0m \u001b[31m10.3 MB/s\u001b[0m eta \u001b[36m0:00:00\u001b[0m\n",
            "\u001b[2K   \u001b[90m━━━━━━━━━━━━━━━━━━━━━━━━━━━━━━━━━━━━━━━━\u001b[0m \u001b[32m207.5/207.5 MB\u001b[0m \u001b[31m7.1 MB/s\u001b[0m eta \u001b[36m0:00:00\u001b[0m\n",
            "\u001b[2K   \u001b[90m━━━━━━━━━━━━━━━━━━━━━━━━━━━━━━━━━━━━━━━━\u001b[0m \u001b[32m21.1/21.1 MB\u001b[0m \u001b[31m26.6 MB/s\u001b[0m eta \u001b[36m0:00:00\u001b[0m\n",
            "\u001b[2K   \u001b[90m━━━━━━━━━━━━━━━━━━━━━━━━━━━━━━━━━━━━━━━━\u001b[0m \u001b[32m50.9/50.9 kB\u001b[0m \u001b[31m4.5 MB/s\u001b[0m eta \u001b[36m0:00:00\u001b[0m\n",
            "\u001b[?25h"
          ]
        }
      ],
      "source": [
        "!pip install -q langchain langchain-openai langchain-community langchain-core faiss-cpu pypdf tiktoken sentence-transformers pandas\n"
      ]
    },
    {
      "cell_type": "markdown",
      "source": [
        "🔹 1. Chatbot Pembaca PDF Kontrak\n",
        "\n",
        "📚 Fungsi: Upload dokumen PDF → Agent bisa menjawab pertanyaan berdasarkan isi kontrak.\n",
        "Level: RAG dasar (Retriever + Prompt + LLM)\n",
        "Teknologi: LangChain, PyPDFLoader, FAISS, SentenceTransformer\n",
        "\n",
        "🧩 Cocok untuk: kontrak kerja, FAQ, atau skrips"
      ],
      "metadata": {
        "id": "K-Nj66suc2Fg"
      }
    },
    {
      "cell_type": "code",
      "source": [
        "import os\n",
        "import pandas as pd\n",
        "from langchain_openai import ChatOpenAI\n",
        "from langchain_core.prompts import PromptTemplate, ChatPromptTemplate\n",
        "from langchain_core.output_parsers import JsonOutputParser\n",
        "from langchain_core.tools import Tool\n",
        "from langchain_community.document_loaders import PyPDFLoader\n",
        "from langchain_community.vectorstores import FAISS\n",
        "from langchain_community.embeddings import SentenceTransformerEmbeddings\n",
        "from langchain.chains import RetrievalQA\n",
        "\n",
        "from getpass import getpass\n",
        "os.environ[\"OPENAI_API_KEY\"] = getpass(\"masukkan api kamu\")\n",
        "\n",
        "llm = ChatOpenAI(\n",
        "    model=\"Qwen/Qwen3-235B-A22B-fp8-tput\",\n",
        "    base_url=\"https://api.together.xyz/v1\",\n",
        "    api_key=os.environ[\"OPENAI_API_KEY\"],\n",
        "    temperature=0.2,\n",
        "    max_tokens=512\n",
        ")\n",
        "\n",
        "result = f\"api berhasil di pasang {llm}\"\n",
        "print(result)"
      ],
      "metadata": {
        "colab": {
          "base_uri": "https://localhost:8080/"
        },
        "id": "HDzEmJlTcqe-",
        "outputId": "31758be7-6ddf-43f5-8131-5d602827463b"
      },
      "execution_count": 23,
      "outputs": [
        {
          "output_type": "stream",
          "name": "stdout",
          "text": [
            "masukkan api kamu··········\n",
            "api berhasil di pasang client=<openai.resources.chat.completions.completions.Completions object at 0x78959a1870d0> async_client=<openai.resources.chat.completions.completions.AsyncCompletions object at 0x78959a185e50> root_client=<openai.OpenAI object at 0x7895aa67ce50> root_async_client=<openai.AsyncOpenAI object at 0x78959a18e890> model_name='Qwen/Qwen3-235B-A22B-fp8-tput' temperature=0.2 model_kwargs={} openai_api_key=SecretStr('**********') openai_api_base='https://api.together.xyz/v1' max_tokens=512\n"
          ]
        }
      ]
    },
    {
      "cell_type": "code",
      "source": [
        "\n",
        "rag_prompt = PromptTemplate.from_template(\"\"\"\n",
        "Kamu adalah asisten hukum cerdas dan jenaka. Tugasmu adalah membaca dokumen kontrak dan menjawab pertanyaan berdasarkan isinya, dengan gaya yang kritis dan lucu seperti stand-up comedy. Jangan mengarang, cukup berdasarkan dokumen.\n",
        "\n",
        "### KONTEKS DOKUMEN:\n",
        "{context}\n",
        "\n",
        "### PERTANYAAN:\n",
        "{question}\n",
        "\n",
        "### PETUNJUK:\n",
        "- Jawaban harus lucu, kritis, dan bernada stand-up comedy.\n",
        "- Jika jawabannya tidak ada di dokumen, katakan: \"Informasi tersebut tidak tersedia dalam kontrak.\"\n",
        "- Jangan tambahkan informasi dari luar dokumen.\n",
        "- Jangan tampilkan reasoning dalam tag <think>\n",
        "\"\"\")\n",
        "\n",
        "chain = rag_prompt | llm"
      ],
      "metadata": {
        "id": "NY3PUlhpdmJT"
      },
      "execution_count": 18,
      "outputs": []
    },
    {
      "cell_type": "code",
      "source": [
        "loaders = PyPDFLoader(\"sample_data/kontrak.pdf\")\n",
        "docs = loaders.load_and_split()\n",
        "embending = SentenceTransformerEmbeddings(model_name=\"all-MiniLM-L6-v2\")\n",
        "vectore_store = FAISS.from_documents(docs, embending)\n",
        "reetriver = vectore_store.as_retriever(search_kwargs={\"k\": 3})\n",
        "\n",
        "\n",
        "# Bangun RAG Chain\n",
        "rag_chain = RetrievalQA.from_chain_type(\n",
        "    llm=llm,\n",
        "    retriever=reetriver,\n",
        "    chain_type_kwargs={\"prompt\": rag_prompt}\n",
        ")\n",
        "\n",
        "# Contoh pemakaian\n",
        "pertanyaan = \"benefit pekerjaan ini apa aja\"\n",
        "jawaban = rag_chain.run(pertanyaan)\n",
        "print(jawaban)\n"
      ],
      "metadata": {
        "colab": {
          "base_uri": "https://localhost:8080/"
        },
        "id": "wKOjbsEHAYWx",
        "outputId": "6fd7fc67-36a8-4525-cba3-05fdf76e905d"
      },
      "execution_count": 21,
      "outputs": [
        {
          "output_type": "stream",
          "name": "stdout",
          "text": [
            "<think>\n",
            "\n",
            "</think>\n",
            "\n",
            "Oh, jadi kita mau bahas *benefit* kerjaan ini, ya? Mari kita lihat di kontrak... *eh, ternyata ini bukan perusahaan startup yang suka kasih fasilitas kekinian kayak kopi sepuasnya atau meja pijat*. Nih, *benefit*-nya:\n",
            "\n",
            "1. **Gaji** – Iya, gaji ada, tapi jumlahnya malah dikosongin di kontrak. Seperti janji mantan: *“Nanti aku kasih tahu besok”* dan besoknya ilang sampai hari kiamat. Gajinya juga dipotong pajak, jadi dapatnya ya sisa yang sudah \"dimangkas negara\".\n",
            "\n",
            "2. **Dipaksa Lembur** – Kalau ada kerjaan mendesak, kamu *wajib* lembur. Ini *benefit*, lho! Siapa yang nggak mau kerja lebih, tanpa upah lembur yang diatur di kontrak? *Pure passion*, bro!\n",
            "\n",
            "3. **Izin Bisa, Tapi Harus Mikir Dua Kali** – Mau izin? Boleh, tapi harus dua hari sebelumnya. Kalau ada hal mendadak seperti sakit atau kerabat meninggal? *Tenaaang*, masih bisa ajukan izin mendadak. Tapi tetap, *nggak ada jaminan libur*. Ini bukan cuti, ini *kompensasi*, kayak kasih selamat ulang tahun ke temen yang lupa.\n",
            "\n",
            "4. **BPJS Kesehatan & Ketenagakerjaan** – Ini *benefit* wajib, jadi kamu bisa sakit dengan aman dan nggak bangkrut kalau masuk rumah sakit. Tapi ya gitu, *wajib* buat daftar, bukan *opsional*. Jadi lebih kayak: “Kamu harus sehat, tapi kami juga nggak tanggung biayanya penuh.”\n",
            "\n",
            "5. **Nggak Boleh Kerja Rangkap** – Kamu dilarang kerja di tempat lain. Jadi, satu-satunya cinta yang boleh kamu miliki ya kerjaan ini. *Monogami kerjaan*, sangat romantis.\n",
            "\n",
            "6. **\n"
          ]
        }
      ]
    },
    {
      "cell_type": "code",
      "source": [
        "from google.colab import drive\n",
        "drive.mount('/content/drive')"
      ],
      "metadata": {
        "id": "ymXUHCtPDV3n"
      },
      "execution_count": null,
      "outputs": []
    }
  ]
}